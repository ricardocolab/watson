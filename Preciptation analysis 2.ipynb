{
    "cells": [
        {
            "metadata": {},
            "cell_type": "code",
            "source": "\nimport ibmos2spark, os\n# @hidden_cell\ncredentials = {\n    'endpoint': 'https://s3.private.us.cloud-object-storage.appdomain.cloud',\n    'service_id': 'iam-ServiceId-85239919-b2bb-4b54-b1f4-ba92dd4c5de2',\n    'iam_service_endpoint': 'https://iam.cloud.ibm.com/oidc/token',\n    'api_key': 'VMOlrUhMVvJZ4398c_e9_E2hUzb3IsIa9UJ_hLgzELKC'\n}\n\nconfiguration_name = 'os_53b38edb6e994038afd7b6d7eb9093b7_configs'\ncos = ibmos2spark.CloudObjectStorage(sc, credentials, configuration_name, 'bluemix_cos')\n\nfrom pyspark.sql import SparkSession\nspark = SparkSession.builder.getOrCreate()\ndf_data_1 = spark.read\\\n  .format('org.apache.spark.sql.execution.datasources.csv.CSVFileFormat')\\\n  .option('header', 'true')\\\n  .load(cos.url('Shanghai AQI and Wheather 2014-2021.csv', 'newproject-donotdelete-pr-voorcwuibddxas'))\ndf_data_1.take(5)\n",
            "execution_count": 1,
            "outputs": [
                {
                    "output_type": "execute_result",
                    "execution_count": 1,
                    "data": {
                        "text/plain": "[Row(date='2014-01-01', maxtempC='15.0', mintempC='5.0', totalSnow_cm='0.0', sunHour='8.7', uvIndex='4.0', moon_illumination='0.0', DewPointC='-1.0', FeelsLikeC='11.0', HeatIndexC='12.0', WindChillC='11.0', WindGustKmph='17.0', cloudcover='0.0', humidity='43.0', precipMM='0.0', pressure='1021.0', tempC='15.0', visibility='10.0', winddirDegree='242.0', windspeedKmph='12.0', AQI='319.0', AQI_Explained='Hazardous'),\n Row(date='2014-01-02', maxtempC='14.0', mintempC='7.0', totalSnow_cm='0.0', sunHour='8.7', uvIndex='4.0', moon_illumination='2.0', DewPointC='4.0', FeelsLikeC='11.0', HeatIndexC='13.0', WindChillC='11.0', WindGustKmph='21.0', cloudcover='3.0', humidity='60.0', precipMM='0.0', pressure='1019.0', tempC='14.0', visibility='10.0', winddirDegree='141.0', windspeedKmph='14.0', AQI='352.0', AQI_Explained='Hazardous'),\n Row(date='2014-01-03', maxtempC='16.0', mintempC='9.0', totalSnow_cm='0.0', sunHour='8.7', uvIndex='4.0', moon_illumination='10.0', DewPointC='3.0', FeelsLikeC='11.0', HeatIndexC='12.0', WindChillC='11.0', WindGustKmph='21.0', cloudcover='26.0', humidity='55.0', precipMM='0.0', pressure='1017.0', tempC='16.0', visibility='10.0', winddirDegree='295.0', windspeedKmph='14.0', AQI='338.0', AQI_Explained='Hazardous'),\n Row(date='2014-01-04', maxtempC='10.0', mintempC='4.0', totalSnow_cm='0.0', sunHour='5.5', uvIndex='2.0', moon_illumination='17.0', DewPointC='3.0', FeelsLikeC='7.0', HeatIndexC='9.0', WindChillC='7.0', WindGustKmph='17.0', cloudcover='24.0', humidity='68.0', precipMM='0.1', pressure='1022.0', tempC='10.0', visibility='10.0', winddirDegree='169.0', windspeedKmph='14.0', AQI='355.0', AQI_Explained='Hazardous'),\n Row(date='2014-01-05', maxtempC='10.0', mintempC='3.0', totalSnow_cm='0.0', sunHour='8.7', uvIndex='3.0', moon_illumination='24.0', DewPointC='3.0', FeelsLikeC='9.0', HeatIndexC='9.0', WindChillC='9.0', WindGustKmph='9.0', cloudcover='12.0', humidity='66.0', precipMM='0.0', pressure='1024.0', tempC='10.0', visibility='10.0', winddirDegree='117.0', windspeedKmph='6.0', AQI='343.0', AQI_Explained='Hazardous')]"
                    },
                    "metadata": {}
                }
            ]
        },
        {
            "metadata": {},
            "cell_type": "code",
            "source": "",
            "execution_count": null,
            "outputs": []
        }
    ],
    "metadata": {
        "kernelspec": {
            "name": "python39",
            "display_name": "Python 3.9 with Spark",
            "language": "python3"
        },
        "language_info": {
            "name": "python",
            "version": "3.9.7",
            "mimetype": "text/x-python",
            "codemirror_mode": {
                "name": "ipython",
                "version": 3
            },
            "pygments_lexer": "ipython3",
            "nbconvert_exporter": "python",
            "file_extension": ".py"
        }
    },
    "nbformat": 4,
    "nbformat_minor": 1
}